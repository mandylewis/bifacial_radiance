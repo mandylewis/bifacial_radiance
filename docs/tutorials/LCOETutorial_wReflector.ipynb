{
 "cells": [
  {
   "cell_type": "markdown",
   "metadata": {},
   "source": [
    "# CALCULATING SYSTEM LCOE \n",
    "This example demonstrates one method of calculating the LCOE of a system, if the energy yield output of the system is known.\n",
    "\n",
    "In this case, we assume artificial reflectors were incorporated in the single-axis-tracked bifacial PV system, and incorporate those costs in the LCOE calculation. We compare the LCOE when the cost of the material is included with the LCOE if these costs are ignored.\n",
    "\n",
    "### Initialize a scene:\n",
    "Set initial variables and import libraries. Set input file where energy yield is stored.\n"
   ]
  },
  {
   "cell_type": "code",
   "execution_count": 1,
   "metadata": {},
   "outputs": [],
   "source": [
    "import pandas as pd\n",
    "import numpy as np\n",
    "import sys\n",
    "import os\n",
    "\n",
    "\"\"\" Set up system parameters \"\"\"\n",
    "module_power = 350 #power rating of module in watts\n",
    "module_width = 1 #assume 1 meter module width\n",
    "module_xgap = 0.05 #assume 5 cm spacing along torque tube\n",
    "\n",
    "\"\"\" Set up LCOE parameters \"\"\"\n",
    "# set up LCOE and Module power variables here\n",
    "i = 0.015 #1.5% interest rate\n",
    "n = 30 #30 year project lifetime\n",
    "\n",
    "\"\"\" Set up Reflector parameters \"\"\"\n",
    "reflector_length = 2.85 #length in meters in N-S direction (runs length of rows E-W), in m\n",
    "#calculate the reflector area per watt of PV module power\n",
    "reflector_area_perW = reflector_length*(module_width+module_xgap)/module_power\n",
    "\n",
    "\"\"\" Read energy yield calculation results \"\"\"\n",
    "results_file = './VF_power.csv'   \n",
    "if not os.path.isfile(results_file):\n",
    "    sys.exit(str(results_file)+': results file does not exist')"
   ]
  },
  {
   "cell_type": "markdown",
   "metadata": {},
   "source": [
    "### Import power from results file and calculate total energy yield.\n",
    "Assume hourly data. A full year of energy yield is standard when calculating the capacity factor (CF).\n",
    "Assume that the power in the results file is for a single module (rated at the input module power)."
   ]
  },
  {
   "cell_type": "code",
   "execution_count": 2,
   "metadata": {},
   "outputs": [
    {
     "name": "stdout",
     "output_type": "stream",
     "text": [
      "total energy yield: 658412.710357724 Wh\n"
     ]
    }
   ],
   "source": [
    "# Use pandas here to read energy yield results file\n",
    "data = pd.read_csv(results_file)\n",
    "\n",
    "# Assuming hourly data, find number of hours in input file\n",
    "num_hours = len(data.index)\n",
    "# print('number of hours: '+str(num_hours) + ' hr')\n",
    "\n",
    "#Take hourly energy yield (assume hourly data) and sum to get total energy yield \n",
    "total_EY = data['Pout'].sum()\n",
    "print('total energy yield: '+str(total_EY) + ' Wh')\n"
   ]
  },
  {
   "cell_type": "markdown",
   "metadata": {},
   "source": [
    "### Perform LCOE Calculations\n",
    "#### Assume system and maintenance costs\n",
    "First, input PV system costs and maintenance costs. Here, utility-scale single-axis-tracking costs from [1] are used. We add a \"bifaciality premium\" as suggested in [2].  "
   ]
  },
  {
   "cell_type": "code",
   "execution_count": 3,
   "metadata": {},
   "outputs": [],
   "source": [
    "\"\"\" LCOE Calculations \"\"\"\n",
    "#LCOE method taken from NREL simplified in [3]\n",
    "\n",
    "#PV system costs - CAPEX and O&M\n",
    "PV_System_price_perW = 0.89 + 0.015 # cost in $/Wdc for system from [1], plus additional bifaciality cost from [2]\n",
    "O_M_annual_perW = 16.06/1000 #O&M costs in $/wdc/yr from [1]\n"
   ]
  },
  {
   "cell_type": "markdown",
   "metadata": {},
   "source": [
    "#### Calculate the capacity factor\n",
    "The capacity factor (CF) is a number between 0 and 1 that represents the total energy output over time, divided by the system capacity times the total number of hours. \n",
    "\n",
    "It is expressed as:\n",
    "\n",
    "$CF = \\frac{\\text{total energy yield}}{\\text{(rated system capacity)(total hours)}}$\n",
    "\n",
    "For an annual calculation, this can be:\n",
    "\n",
    "$CF = \\frac{\\text{annual energy yield}}{\\text{(rated system capacity)(8760)}}$"
   ]
  },
  {
   "cell_type": "code",
   "execution_count": 4,
   "metadata": {},
   "outputs": [
    {
     "name": "stdout",
     "output_type": "stream",
     "text": [
      "CF: 0.21474648087336073\n"
     ]
    }
   ],
   "source": [
    "#Capacity factor for reference system\n",
    "CF = (total_EY/(module_power*num_hours))\n",
    "print('CF: '+str(CF))"
   ]
  },
  {
   "cell_type": "markdown",
   "metadata": {},
   "source": [
    "#### Calculate the capital recovery factor\n",
    "The capital recovery factor (CRF) is a method to take up-front costs (such as PV system price) and convert it to an equivalent annual cost, assuming a loan over n years with an interest rate i. In other words, the CRF is the ratio of an annuity over n years to the present value of that annuity. The CRF is expressed as:\n",
    "\n",
    "$CRF = \\frac{i(1+i)^n}{(1+i)^n-1}$"
   ]
  },
  {
   "cell_type": "code",
   "execution_count": 5,
   "metadata": {},
   "outputs": [
    {
     "name": "stdout",
     "output_type": "stream",
     "text": [
      "CRF: 0.04163918826153069\n"
     ]
    }
   ],
   "source": [
    "#Calculate capital recovery factor [3]\n",
    "CRF = (i*np.power(1+i,n))/(np.power(1+i,n)-1)\n",
    "print('CRF: '+str(CRF))"
   ]
  },
  {
   "cell_type": "markdown",
   "metadata": {},
   "source": [
    "#### Calculate the levelized cost of energy (LCOE)\n",
    "Lastly, we calculate the levelized cost of energy (LCOE). The LCOE is the cost, typically expressed in cents per kWh, of generating electricity for a given system.\n",
    "\n",
    "$LCOE = \\frac{\\text{sum of costs over lifetime}}{\\text{sum of energy produced over lifetime}}$\n",
    "\n",
    "Here, we use the simple LCOE method described in [3]. \n",
    "\n",
    "$LCOE = \\frac{(\\text{total capital costs }\\times\\text{ CRF}) + (\\text{annual O&M costs})}{\\text{(8760 hours)}\\times CF}$"
   ]
  },
  {
   "cell_type": "code",
   "execution_count": 6,
   "metadata": {},
   "outputs": [
    {
     "name": "stdout",
     "output_type": "stream",
     "text": [
      "LCOE without reflector cost: 2.856903061853107 cents/kWh\n"
     ]
    }
   ],
   "source": [
    "#Calculate simplified levelized cost of energy (LCOE) [3]\n",
    "LCOE = 1000*100*((PV_System_price_perW*CRF) + O_M_annual_perW)/(8760*CF)\n",
    "print('LCOE without reflector cost: '+str(LCOE) +' cents/kWh')"
   ]
  },
  {
   "cell_type": "markdown",
   "metadata": {},
   "source": [
    "#### Calculate LCOE with Reflector included\n",
    "Repeat the LCOE calculation with the cost of the reflector included in the calculation.\n"
   ]
  },
  {
   "cell_type": "code",
   "execution_count": 8,
   "metadata": {},
   "outputs": [
    {
     "name": "stdout",
     "output_type": "stream",
     "text": [
      "LCOE with reflector cost: 2.8587955719597984 cents/kWh\n"
     ]
    }
   ],
   "source": [
    "#Reflector costs - assume no increase to O&M costs\n",
    "reflector_cost_perm2 = 0.1 #Assume 0.10$/m2#cost of reflecting material per m2\n",
    "reflector_cost_perW = reflector_area_perW*reflector_cost_perm2\n",
    "\n",
    "#Total CAPEX costs\n",
    "total_cost_perW = PV_System_price_perW + reflector_cost_perW\n",
    "\n",
    "#Calculate simplified levelized cost of energy (LCOE) [3]\n",
    "LCOE_reflectors = 1000*100*((total_cost_perW*CRF) + O_M_annual_perW)/(8760*CF)\n",
    "print('LCOE with reflector cost: '+str(LCOE_reflectors) +' cents/kWh')"
   ]
  },
  {
   "cell_type": "markdown",
   "metadata": {},
   "source": [
    "### References\n",
    "[1] V. Ramasamy, D. Feldman, J. Desai, and R. Margolis, “U.S. Solar Photovoltaic System and Energy Storage Cost Benchmark: Q1 2021,” 2021. Available: https://www.nrel.gov/docs/fy22osti/80694.pdf.\n",
    "\n",
    "[2] D. Feldman et al., “Spring 2022 Solar Industry Update,” 2022. Available: https://www.nrel.gov/docs/fy22osti/82854.pdf.\n",
    "\n",
    "[3] National Renewable Energy Laboratory, “Simple Levelized Cost of Energy (LCOE) Calculator Documentation.” https://www.nrel.gov/analysis/tech-lcoe-documentation.html"
   ]
  },
  {
   "cell_type": "code",
   "execution_count": null,
   "metadata": {},
   "outputs": [],
   "source": []
  }
 ],
 "metadata": {
  "kernelspec": {
   "display_name": "Python 3 (ipykernel)",
   "language": "python",
   "name": "python3"
  },
  "language_info": {
   "codemirror_mode": {
    "name": "ipython",
    "version": 3
   },
   "file_extension": ".py",
   "mimetype": "text/x-python",
   "name": "python",
   "nbconvert_exporter": "python",
   "pygments_lexer": "ipython3",
   "version": "3.9.12"
  },
  "vscode": {
   "interpreter": {
    "hash": "c56527485b7c9dd36c8c8808345694ae9d0a642c0f00dfb6356f9a65494ceb50"
   }
  }
 },
 "nbformat": 4,
 "nbformat_minor": 2
}
